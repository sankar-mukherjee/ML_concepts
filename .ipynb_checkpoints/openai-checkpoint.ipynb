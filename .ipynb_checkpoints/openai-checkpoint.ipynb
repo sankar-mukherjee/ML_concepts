{
 "cells": [
  {
   "cell_type": "code",
   "execution_count": 121,
   "metadata": {},
   "outputs": [],
   "source": [
    "# linear regression"
   ]
  },
  {
   "cell_type": "code",
   "execution_count": 105,
   "metadata": {},
   "outputs": [],
   "source": [
    "import numpy as np"
   ]
  },
  {
   "cell_type": "code",
   "execution_count": 115,
   "metadata": {},
   "outputs": [],
   "source": [
    "X = np.array([[ 0.51661111, -0.00469497,  0.21175977,  1.49219029, -0.19785093,          0.14874162, -0.22225497,  0.36014676,  0.73175412,  0.45115654,         -0.33267465, -0.47462162,  0.2469862 , -0.84054844, -0.10985035,          1.34352256, -0.97170292, -1.52321923, -1.82738582,  1.06152147],        [ 1.00406785,  1.28147456, -0.63682056, -0.43696234, -0.71226089,         -1.11640841,  1.21165455,  0.19162659, -0.32224992, -0.06996653,         -1.58301969,  1.93943539, -0.17853331,  0.15485267, -0.36578875,         -2.00732556, -0.34473737,  1.48352611,  0.37343267, -1.71619494],        [ 0.08806107,  0.48582491,  0.93283293, -0.40242251,  0.07834088,          1.51577918, -0.9113095 , -0.54269805, -0.95811291,  0.90961007,         -0.75332133, -0.79901474,  0.05973137,  0.68267203, -0.28368387,         -0.03889551,  1.25931616, -0.08673801,  0.36536428,  0.24285428]])\n",
    "Y = np.array([-0.48597087, -0.01744057, -0.13427707])\n",
    "\n",
    "example_w = np.abs(np.random.randn(20))\n",
    "example_b = np.random.randn()"
   ]
  },
  {
   "cell_type": "code",
   "execution_count": 116,
   "metadata": {},
   "outputs": [],
   "source": [
    "def do_cost(X,Y,example_w,example_b):\n",
    "    W = np.zeros(len(example_w))\n",
    "    for i in range(0,X.shape[1]):\n",
    "        A = np.vstack([example_w[i] * (X[:,i]), np.repeat(example_b,X.shape[0])]).T\n",
    "        m, c = np.linalg.lstsq(A, Y)[0]\n",
    "        W[i] = m\n",
    "    return W,c"
   ]
  },
  {
   "cell_type": "code",
   "execution_count": null,
   "metadata": {},
   "outputs": [],
   "source": []
  },
  {
   "cell_type": "code",
   "execution_count": 118,
   "metadata": {},
   "outputs": [
    {
     "name": "stderr",
     "output_type": "stream",
     "text": [
      "C:\\ProgramData\\Anaconda3\\lib\\site-packages\\ipykernel_launcher.py:5: FutureWarning: `rcond` parameter will change to the default of machine precision times ``max(M, N)`` where M and N are the input matrix dimensions.\n",
      "To use the future default and silence this warning we advise to pass `rcond=None`, to keep using the old, explicitly pass `rcond=-1`.\n",
      "  \"\"\"\n"
     ]
    }
   ],
   "source": [
    "w = example_w\n",
    "b = example_b\n",
    "for i in range(0,10000):\n",
    "    x,y = do_cost(X,Y,w,b)\n",
    "    if(all(x[0:9])>0):\n",
    "        w = w - x\n",
    "        b = b - y"
   ]
  },
  {
   "cell_type": "code",
   "execution_count": 119,
   "metadata": {},
   "outputs": [
    {
     "data": {
      "text/plain": [
       "array([  312.48457215,  -182.5801901 ,    42.05492987,    65.63118819,\n",
       "          69.95125714,    28.43204158,   -44.58424169,    67.05648153,\n",
       "          68.12344655,    52.34772899,    82.72187148,    32.54422291,\n",
       "         146.57593293,  -284.01388739,   192.95161498,    51.85745274,\n",
       "       -3706.99316659,    31.36320692,    -8.09268809,    54.56247411])"
      ]
     },
     "execution_count": 119,
     "metadata": {},
     "output_type": "execute_result"
    }
   ],
   "source": [
    "w"
   ]
  },
  {
   "cell_type": "code",
   "execution_count": 120,
   "metadata": {},
   "outputs": [
    {
     "data": {
      "text/plain": [
       "68.2725403562803"
      ]
     },
     "execution_count": 120,
     "metadata": {},
     "output_type": "execute_result"
    }
   ],
   "source": [
    "b"
   ]
  },
  {
   "cell_type": "code",
   "execution_count": null,
   "metadata": {},
   "outputs": [],
   "source": []
  }
 ],
 "metadata": {
  "kernelspec": {
   "display_name": "Python 3",
   "language": "python",
   "name": "python3"
  },
  "language_info": {
   "codemirror_mode": {
    "name": "ipython",
    "version": 3
   },
   "file_extension": ".py",
   "mimetype": "text/x-python",
   "name": "python",
   "nbconvert_exporter": "python",
   "pygments_lexer": "ipython3",
   "version": "3.6.0"
  }
 },
 "nbformat": 4,
 "nbformat_minor": 2
}
