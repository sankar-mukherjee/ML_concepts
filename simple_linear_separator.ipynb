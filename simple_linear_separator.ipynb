{
 "cells": [
  {
   "cell_type": "code",
   "execution_count": 1,
   "metadata": {},
   "outputs": [],
   "source": [
    "import numpy as np\n",
    "import matplotlib.pyplot as plt"
   ]
  },
  {
   "cell_type": "code",
   "execution_count": 2,
   "metadata": {},
   "outputs": [],
   "source": [
    "group1 = [[0.067, 0.21], [0.092, 0.21], \n",
    "  [0.294, 0.445], [0.227, 0.521], [0.185, 0.597], \n",
    "  [0.185, 0.689], [0.235, 0.748], [0.319, 0.773], \n",
    "  [0.387, 0.739], [0.437, 0.672], [0.496, 0.739],\n",
    "  [0.571, 0.773], [0.639, 0.765], [0.765, 0.924],\n",
    "  [0.807, 0.933], [0.849, 0.941]]\n",
    "group2 = [[0.118, 0.143], [0.118, 0.176], \n",
    "  [0.345, 0.378], [0.395, 0.319], [0.437, 0.261],\n",
    "  [0.496, 0.328], [0.546, 0.395], [0.605, 0.462],\n",
    "  [0.655, 0.529], [0.697, 0.597], [0.706, 0.664],\n",
    "  [0.681, 0.723], [0.849, 0.798], [0.857, 0.849],\n",
    "  [0.866, 0.899]]\n",
    "\n",
    "group1 = np.stack(group1)\n",
    "group2 = np.stack(group2)"
   ]
  },
  {
   "cell_type": "code",
   "execution_count": 3,
   "metadata": {},
   "outputs": [
    {
     "data": {
      "text/plain": [
       "<matplotlib.collections.PathCollection at 0x9166748>"
      ]
     },
     "execution_count": 3,
     "metadata": {},
     "output_type": "execute_result"
    },
    {
     "data": {
      "image/png": "[encoded data removed]",
      "text/plain": [
       "<Figure size 432x288 with 1 Axes>"
      ]
     },
     "metadata": {
      "needs_background": "light"
     },
     "output_type": "display_data"
    }
   ],
   "source": [
    "plt.scatter(group1[:,0],group1[:,1])\n",
    "plt.scatter(group2[:,0],group2[:,1])"
   ]
  },
  {
   "cell_type": "code",
   "execution_count": 4,
   "metadata": {},
   "outputs": [],
   "source": [
    "A = np.hstack((group1,np.ones((group1.shape[0],1))))\n",
    "B = np.hstack((group2,np.zeros((group2.shape[0],1))))\n",
    "data = np.vstack((A,B))"
   ]
  },
  {
   "cell_type": "code",
   "execution_count": 5,
   "metadata": {},
   "outputs": [
    {
     "name": "stdout",
     "output_type": "stream",
     "text": [
      "(31, 2)\n"
     ]
    }
   ],
   "source": [
    "X = data[:,:2]\n",
    "Y = data[:,2]\n",
    "print(X.shape)"
   ]
  },
  {
   "cell_type": "code",
   "execution_count": 70,
   "metadata": {
    "code_folding": []
   },
   "outputs": [
    {
     "name": "stdout",
     "output_type": "stream",
     "text": [
      "[-0.01267159 -0.23208112  0.22692654]\n"
     ]
    },
    {
     "data": {
      "text/plain": [
       "[<matplotlib.lines.Line2D at 0xa842f98>]"
      ]
     },
     "execution_count": 70,
     "metadata": {},
     "output_type": "execute_result"
    },
    {
     "data": {
      "image/png": "[encoded data removed]",
      "text/plain": [
       "<Figure size 432x288 with 1 Axes>"
      ]
     },
     "metadata": {
      "needs_background": "light"
     },
     "output_type": "display_data"
    }
   ],
   "source": [
    "class Perceptron(object):\n",
    "    def __init__(self, rate = 0.01, number_of_iterations = 100):\n",
    "        self.rate = rate\n",
    "        self.number_of_iterations = number_of_iterations\n",
    "\n",
    "    def predict(self, X):\n",
    "        a = np.dot(X, self.weight_matrix[1:]) + self.weight_matrix[0]\n",
    "        #print(a.shape)\n",
    "        return np.where(a >= 0.0, 1, 0)\n",
    "\n",
    "    def fit(self, X, y):\n",
    "        self.weight_matrix = np.abs(np.random.randn(1 + X.shape[1]))\n",
    "        self.errors_list = []\n",
    "        for _ in range(self.number_of_iterations):\n",
    "            errors = 0\n",
    "            for xi, target in zip(X, Y):\n",
    "                update = self.rate * (target - self.predict(xi))\n",
    "                self.weight_matrix[1:] += update * xi\n",
    "                self.weight_matrix[0] += update\n",
    "                errors += int(update != 0.0)\n",
    "            self.errors_list.append(errors)\n",
    "        return self\n",
    "    \n",
    "p = Perceptron(rate = 0.01, number_of_iterations = 1000)\n",
    "p.fit(X, Y)\n",
    "m = p.weight_matrix\n",
    "print(m)\n",
    "\n",
    "plt.scatter(group1[:,0],group1[:,1])\n",
    "plt.scatter(group2[:,0],group2[:,1])\n",
    "plt.plot(X[:,0], -(m[1]*X[:,0] + m[0])/m[2], 'r')"
   ]
  },
  {
   "cell_type": "code",
   "execution_count": null,
   "metadata": {},
   "outputs": [],
   "source": []
  },
  {
   "cell_type": "code",
   "execution_count": null,
   "metadata": {},
   "outputs": [],
   "source": []
  },
  {
   "cell_type": "code",
   "execution_count": null,
   "metadata": {},
   "outputs": [],
   "source": []
  }
 ],
 "metadata": {
  "kernelspec": {
   "display_name": "Python 3",
   "language": "python",
   "name": "python3"
  },
  "language_info": {
   "codemirror_mode": {
    "name": "ipython",
    "version": 3
   },
   "file_extension": ".py",
   "mimetype": "text/x-python",
   "name": "python",
   "nbconvert_exporter": "python",
   "pygments_lexer": "ipython3",
   "version": "3.6.0"
  }
 },
 "nbformat": 4,
 "nbformat_minor": 2
}
